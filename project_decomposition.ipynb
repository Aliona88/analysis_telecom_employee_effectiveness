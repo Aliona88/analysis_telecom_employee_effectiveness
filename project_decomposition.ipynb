{
 "cells": [
  {
   "cell_type": "markdown",
   "metadata": {},
   "source": [
    "# Project description"
   ]
  },
  {
   "cell_type": "markdown",
   "metadata": {},
   "source": [
    "## Telecom Operators:\n",
    "\n",
    "***Task:***\n",
    "The main goal of the project is to Identify ineffective operators.\n",
    "\n",
    "To solve the problem, we need to get clear answers to 3 questions:\n",
    "\n",
    "* **What** criteria determine the operator's effectiveness?\n",
    "* **Who** is the ineffective operator in our dataset?\n",
    "* **Why** are some operators ineffective?"
   ]
  },
  {
   "cell_type": "markdown",
   "metadata": {},
   "source": [
    "## Specification and Requirements\n",
    "\n",
    "- Carry out exploratory data analysis\n",
    "- Identify ineffective operators\n",
    "- Test statistical hypotheses\n",
    "\n",
    "***Description of the data:***"
   ]
  },
  {
   "cell_type": "markdown",
   "metadata": {},
   "source": [
    "## Table of Contents"
   ]
  },
  {
   "cell_type": "markdown",
   "metadata": {
    "toc": true
   },
   "source": [
    "<h1>Table of Contents<span class=\"tocSkip\"></span></h1>\n",
    "<div class=\"toc\"><ul class=\"toc-item\"><li><span><a href=\"#Project-description\" data-toc-modified-id=\"Project-description-1\"><span class=\"toc-item-num\">1&nbsp;&nbsp;</span>Project description</a></span><ul class=\"toc-item\"><li><span><a href=\"#Telecom-Operators:\" data-toc-modified-id=\"Telecom-Operators:-1.1\"><span class=\"toc-item-num\">1.1&nbsp;&nbsp;</span>Telecom Operators:</a></span></li><li><span><a href=\"#Specification-and-Requirements\" data-toc-modified-id=\"Specification-and-Requirements-1.2\"><span class=\"toc-item-num\">1.2&nbsp;&nbsp;</span>Specification and Requirements</a></span></li><li><span><a href=\"#Table-of-Contents\" data-toc-modified-id=\"Table-of-Contents-1.3\"><span class=\"toc-item-num\">1.3&nbsp;&nbsp;</span>Table of Contents</a></span></li></ul></li><li><span><a href=\"#Project-implementation\" data-toc-modified-id=\"Project-implementation-2\"><span class=\"toc-item-num\">2&nbsp;&nbsp;</span>Project implementation</a></span><ul class=\"toc-item\"><li><span><a href=\"#Project-settings\" data-toc-modified-id=\"Project-settings-2.1\"><span class=\"toc-item-num\">2.1&nbsp;&nbsp;</span>Project settings</a></span><ul class=\"toc-item\"><li><span><a href=\"#Importing-libraries\" data-toc-modified-id=\"Importing-libraries-2.1.1\"><span class=\"toc-item-num\">2.1.1&nbsp;&nbsp;</span>Importing libraries</a></span></li><li><span><a href=\"#Functions---helpers-:)\" data-toc-modified-id=\"Functions---helpers-:)-2.1.2\"><span class=\"toc-item-num\">2.1.2&nbsp;&nbsp;</span>Functions - helpers :)</a></span><ul class=\"toc-item\"><li><span><a href=\"#eda_df()\" data-toc-modified-id=\"eda_df()-2.1.2.1\"><span class=\"toc-item-num\">2.1.2.1&nbsp;&nbsp;</span>eda_df()</a></span></li><li><span><a href=\"#overview_by_profiling()\" data-toc-modified-id=\"overview_by_profiling()-2.1.2.2\"><span class=\"toc-item-num\">2.1.2.2&nbsp;&nbsp;</span>overview_by_profiling()</a></span></li><li><span><a href=\"#distribution_columns()\" data-toc-modified-id=\"distribution_columns()-2.1.2.3\"><span class=\"toc-item-num\">2.1.2.3&nbsp;&nbsp;</span>distribution_columns()</a></span></li><li><span><a href=\"#dtype_converter()\" data-toc-modified-id=\"dtype_converter()-2.1.2.4\"><span class=\"toc-item-num\">2.1.2.4&nbsp;&nbsp;</span>dtype_converter()</a></span></li><li><span><a href=\"#def-convert_seconds()\" data-toc-modified-id=\"def-convert_seconds()-2.1.2.5\"><span class=\"toc-item-num\">2.1.2.5&nbsp;&nbsp;</span>def convert_seconds()</a></span></li><li><span><a href=\"#get_month()\" data-toc-modified-id=\"get_month()-2.1.2.6\"><span class=\"toc-item-num\">2.1.2.6&nbsp;&nbsp;</span>get_month()</a></span></li><li><span><a href=\"#get_day()\" data-toc-modified-id=\"get_day()-2.1.2.7\"><span class=\"toc-item-num\">2.1.2.7&nbsp;&nbsp;</span>get_day()</a></span></li><li><span><a href=\"#get_date_int()\" data-toc-modified-id=\"get_date_int()-2.1.2.8\"><span class=\"toc-item-num\">2.1.2.8&nbsp;&nbsp;</span>get_date_int()</a></span></li><li><span><a href=\"#conversion_groups()\" data-toc-modified-id=\"conversion_groups()-2.1.2.9\"><span class=\"toc-item-num\">2.1.2.9&nbsp;&nbsp;</span>conversion_groups()</a></span></li><li><span><a href=\"#check_hypothesis()\" data-toc-modified-id=\"check_hypothesis()-2.1.2.10\"><span class=\"toc-item-num\">2.1.2.10&nbsp;&nbsp;</span>check_hypothesis()</a></span></li></ul></li><li><span><a href=\"#Data-sources\" data-toc-modified-id=\"Data-sources-2.1.3\"><span class=\"toc-item-num\">2.1.3&nbsp;&nbsp;</span>Data sources</a></span></li></ul></li><li><span><a href=\"#Downloading-and-overview-the-data\" data-toc-modified-id=\"Downloading-and-overview-the-data-2.2\"><span class=\"toc-item-num\">2.2&nbsp;&nbsp;</span>Downloading and overview the data</a></span><ul class=\"toc-item\"><li><span><a href=\"#The-telecom_operators-dataset\" data-toc-modified-id=\"The-telecom_operators-dataset-2.2.1\"><span class=\"toc-item-num\">2.2.1&nbsp;&nbsp;</span>The <code>telecom_operators</code> dataset</a></span></li><li><span><a href=\"#The-telecom_clients-dataset\" data-toc-modified-id=\"The-telecom_clients-dataset-2.2.2\"><span class=\"toc-item-num\">2.2.2&nbsp;&nbsp;</span>The <code>telecom_clients</code> dataset</a></span></li><li><span><a href=\"#Preliminary-conclusion\" data-toc-modified-id=\"Preliminary-conclusion-2.2.3\"><span class=\"toc-item-num\">2.2.3&nbsp;&nbsp;</span>Preliminary conclusion</a></span></li></ul></li><li><span><a href=\"#Data-Preprocessing\" data-toc-modified-id=\"Data-Preprocessing-2.3\"><span class=\"toc-item-num\">2.3&nbsp;&nbsp;</span>Data Preprocessing</a></span><ul class=\"toc-item\"><li><span><a href=\"#Studying-missing-values\" data-toc-modified-id=\"Studying-missing-values-2.3.1\"><span class=\"toc-item-num\">2.3.1&nbsp;&nbsp;</span>Studying missing values</a></span></li><li><span><a href=\"#Filling-and/or-dropping-missing-values\" data-toc-modified-id=\"Filling-and/or-dropping-missing-values-2.3.2\"><span class=\"toc-item-num\">2.3.2&nbsp;&nbsp;</span>Filling and/or dropping missing values</a></span></li><li><span><a href=\"#Converting-the-data-types-of-some-variables-to-the-correct-type.\" data-toc-modified-id=\"Converting-the-data-types-of-some-variables-to-the-correct-type.-2.3.3\"><span class=\"toc-item-num\">2.3.3&nbsp;&nbsp;</span>Converting the data types of some variables to the correct type.</a></span></li><li><span><a href=\"#Studying-and-removing-duplicates\" data-toc-modified-id=\"Studying-and-removing-duplicates-2.3.4\"><span class=\"toc-item-num\">2.3.4&nbsp;&nbsp;</span>Studying and removing duplicates</a></span></li><li><span><a href=\"#Conclusion\" data-toc-modified-id=\"Conclusion-2.3.5\"><span class=\"toc-item-num\">2.3.5&nbsp;&nbsp;</span>Conclusion</a></span></li></ul></li><li><span><a href=\"#Exploratory-Data-Analysis-(EDA)\" data-toc-modified-id=\"Exploratory-Data-Analysis-(EDA)-2.4\"><span class=\"toc-item-num\">2.4&nbsp;&nbsp;</span>Exploratory Data Analysis (EDA)</a></span><ul class=\"toc-item\"><li><span><a href=\"#Plotting-a-histogram-for-call-duration\" data-toc-modified-id=\"Plotting-a-histogram-for-call-duration-2.4.1\"><span class=\"toc-item-num\">2.4.1&nbsp;&nbsp;</span>Plotting a histogram for call duration</a></span></li><li><span><a href=\"#Plotting-a-histogram-for-call-count\" data-toc-modified-id=\"Plotting-a-histogram-for-call-count-2.4.2\"><span class=\"toc-item-num\">2.4.2&nbsp;&nbsp;</span>Plotting a histogram for call count</a></span></li><li><span><a href=\"#Defining-and-removing-outliers\" data-toc-modified-id=\"Defining-and-removing-outliers-2.4.3\"><span class=\"toc-item-num\">2.4.3&nbsp;&nbsp;</span>Defining and removing outliers</a></span></li><li><span><a href=\"#Studying-weird-and-inconsistent-values\" data-toc-modified-id=\"Studying-weird-and-inconsistent-values-2.4.4\"><span class=\"toc-item-num\">2.4.4&nbsp;&nbsp;</span>Studying weird and inconsistent values</a></span></li><li><span><a href=\"#Creating-additional-calculated-columns:\" data-toc-modified-id=\"Creating-additional-calculated-columns:-2.4.5\"><span class=\"toc-item-num\">2.4.5&nbsp;&nbsp;</span>Creating additional calculated columns:</a></span></li><li><span><a href=\"#Studying-correlations-in-the-datasets\" data-toc-modified-id=\"Studying-correlations-in-the-datasets-2.4.6\"><span class=\"toc-item-num\">2.4.6&nbsp;&nbsp;</span>Studying correlations in the datasets</a></span></li><li><span><a href=\"#Conclusion\" data-toc-modified-id=\"Conclusion-2.4.7\"><span class=\"toc-item-num\">2.4.7&nbsp;&nbsp;</span>Conclusion</a></span></li></ul></li><li><span><a href=\"#Reports\" data-toc-modified-id=\"Reports-2.5\"><span class=\"toc-item-num\">2.5&nbsp;&nbsp;</span>Reports</a></span><ul class=\"toc-item\"><li><span><a href=\"#The-shares-of-internal-and-external-calls\" data-toc-modified-id=\"The-shares-of-internal-and-external-calls-2.5.1\"><span class=\"toc-item-num\">2.5.1&nbsp;&nbsp;</span>The shares of internal and external calls</a></span></li><li><span><a href=\"#The-shares-of-call-directions\" data-toc-modified-id=\"The-shares-of-call-directions-2.5.2\"><span class=\"toc-item-num\">2.5.2&nbsp;&nbsp;</span>The shares of call directions</a></span></li><li><span><a href=\"#The-shares-of-client's-tariff-plan\" data-toc-modified-id=\"The-shares-of-client's-tariff-plan-2.5.3\"><span class=\"toc-item-num\">2.5.3&nbsp;&nbsp;</span>The shares of client's tariff plan</a></span></li><li><span><a href=\"#The-number-of-total-calls-per-day-and-their-daily-total-duration\" data-toc-modified-id=\"The-number-of-total-calls-per-day-and-their-daily-total-duration-2.5.4\"><span class=\"toc-item-num\">2.5.4&nbsp;&nbsp;</span>The number of total calls per day and their daily total duration</a></span></li><li><span><a href=\"#Daily-duration-of-calls-and-waiting-time\" data-toc-modified-id=\"Daily-duration-of-calls-and-waiting-time-2.5.5\"><span class=\"toc-item-num\">2.5.5&nbsp;&nbsp;</span>Daily duration of calls and waiting time</a></span></li><li><span><a href=\"#Daily-number-of-missing-calls\" data-toc-modified-id=\"Daily-number-of-missing-calls-2.5.6\"><span class=\"toc-item-num\">2.5.6&nbsp;&nbsp;</span>Daily number of missing calls</a></span></li><li><span><a href=\"#Daily-share-of-missing-calls\" data-toc-modified-id=\"Daily-share-of-missing-calls-2.5.7\"><span class=\"toc-item-num\">2.5.7&nbsp;&nbsp;</span>Daily share of missing calls</a></span></li><li><span><a href=\"#The-share-of-calls-per-weekday\" data-toc-modified-id=\"The-share-of-calls-per-weekday-2.5.8\"><span class=\"toc-item-num\">2.5.8&nbsp;&nbsp;</span>The share of calls per weekday</a></span></li><li><span><a href=\"#The-total-number-of-customers-using-the-service-every-day,-week,-etc.\" data-toc-modified-id=\"The-total-number-of-customers-using-the-service-every-day,-week,-etc.-2.5.9\"><span class=\"toc-item-num\">2.5.9&nbsp;&nbsp;</span>The total number of customers using the service every day, week, etc.</a></span></li><li><span><a href=\"#The-average-number-of-customers-per-operator-they-serve-every-day,-week,-etc.\" data-toc-modified-id=\"The-average-number-of-customers-per-operator-they-serve-every-day,-week,-etc.-2.5.10\"><span class=\"toc-item-num\">2.5.10&nbsp;&nbsp;</span>The average number of customers per operator they serve every day, week, etc.</a></span></li><li><span><a href=\"#The-average-number-of-calls-per-day-per-operator.\" data-toc-modified-id=\"The-average-number-of-calls-per-day-per-operator.-2.5.11\"><span class=\"toc-item-num\">2.5.11&nbsp;&nbsp;</span>The average number of calls per day per operator.</a></span></li><li><span><a href=\"#The-average-number-of-missing-calls-per-day-per-operator.\" data-toc-modified-id=\"The-average-number-of-missing-calls-per-day-per-operator.-2.5.12\"><span class=\"toc-item-num\">2.5.12&nbsp;&nbsp;</span>The average number of missing calls per day per operator.</a></span></li></ul></li></ul></li><li><span><a href=\"#Metrics-of-Operator-Performance\" data-toc-modified-id=\"Metrics-of-Operator-Performance-3\"><span class=\"toc-item-num\">3&nbsp;&nbsp;</span>Metrics of Operator Performance</a></span><ul class=\"toc-item\"><li><span><a href=\"#Constants-of-industry-standards\" data-toc-modified-id=\"Constants-of-industry-standards-3.1\"><span class=\"toc-item-num\">3.1&nbsp;&nbsp;</span>Constants of industry standards</a></span><ul class=\"toc-item\"><li><span><a href=\"#Working-hours\" data-toc-modified-id=\"Working-hours-3.1.1\"><span class=\"toc-item-num\">3.1.1&nbsp;&nbsp;</span>Working hours</a></span></li><li><span><a href=\"#Effective-working-time\" data-toc-modified-id=\"Effective-working-time-3.1.2\"><span class=\"toc-item-num\">3.1.2&nbsp;&nbsp;</span>Effective working time</a></span></li><li><span><a href=\"#Standard-call-duration\" data-toc-modified-id=\"Standard-call-duration-3.1.3\"><span class=\"toc-item-num\">3.1.3&nbsp;&nbsp;</span>Standard call duration</a></span></li><li><span><a href=\"#Number-of-calls\" data-toc-modified-id=\"Number-of-calls-3.1.4\"><span class=\"toc-item-num\">3.1.4&nbsp;&nbsp;</span>Number of calls</a></span></li><li><span><a href=\"#Waiting-time\" data-toc-modified-id=\"Waiting-time-3.1.5\"><span class=\"toc-item-num\">3.1.5&nbsp;&nbsp;</span>Waiting time</a></span></li><li><span><a href=\"#Missed-calls\" data-toc-modified-id=\"Missed-calls-3.1.6\"><span class=\"toc-item-num\">3.1.6&nbsp;&nbsp;</span>Missed calls</a></span></li><li><span><a href=\"#Abandoned-call-threshold\" data-toc-modified-id=\"Abandoned-call-threshold-3.1.7\"><span class=\"toc-item-num\">3.1.7&nbsp;&nbsp;</span>Abandoned call threshold</a></span></li></ul></li><li><span><a href=\"#Metrics\" data-toc-modified-id=\"Metrics-3.2\"><span class=\"toc-item-num\">3.2&nbsp;&nbsp;</span>Metrics</a></span><ul class=\"toc-item\"><li><span><a href=\"#Metric_1:-Effective-working-hours\" data-toc-modified-id=\"Metric_1:-Effective-working-hours-3.2.1\"><span class=\"toc-item-num\">3.2.1&nbsp;&nbsp;</span>Metric_1: Effective working hours</a></span></li><li><span><a href=\"#Metric_2:-Call-duration\" data-toc-modified-id=\"Metric_2:-Call-duration-3.2.2\"><span class=\"toc-item-num\">3.2.2&nbsp;&nbsp;</span>Metric_2: Call duration</a></span></li><li><span><a href=\"#Metric_3:-Number-daily-calls\" data-toc-modified-id=\"Metric_3:-Number-daily-calls-3.2.3\"><span class=\"toc-item-num\">3.2.3&nbsp;&nbsp;</span>Metric_3: Number daily calls</a></span></li><li><span><a href=\"#Metric_4:-Waiting-time\" data-toc-modified-id=\"Metric_4:-Waiting-time-3.2.4\"><span class=\"toc-item-num\">3.2.4&nbsp;&nbsp;</span>Metric_4: Waiting time</a></span></li><li><span><a href=\"#Metric_5:-Missed-calls\" data-toc-modified-id=\"Metric_5:-Missed-calls-3.2.5\"><span class=\"toc-item-num\">3.2.5&nbsp;&nbsp;</span>Metric_5: Missed calls</a></span></li><li><span><a href=\"#Metric_6:-Abandoned-calls\" data-toc-modified-id=\"Metric_6:-Abandoned-calls-3.2.6\"><span class=\"toc-item-num\">3.2.6&nbsp;&nbsp;</span>Metric_6: Abandoned calls</a></span></li><li><span><a href=\"#Metric_7:-Number-of-outgoing-calls\" data-toc-modified-id=\"Metric_7:-Number-of-outgoing-calls-3.2.7\"><span class=\"toc-item-num\">3.2.7&nbsp;&nbsp;</span>Metric_7: Number of outgoing calls</a></span></li><li><span><a href=\"#Conclusion\" data-toc-modified-id=\"Conclusion-3.2.8\"><span class=\"toc-item-num\">3.2.8&nbsp;&nbsp;</span>Conclusion</a></span></li></ul></li></ul></li><li><span><a href=\"#Hypotheses\" data-toc-modified-id=\"Hypotheses-4\"><span class=\"toc-item-num\">4&nbsp;&nbsp;</span>Hypotheses</a></span><ul class=\"toc-item\"><li><span><a href=\"#Hypothesis-determinations\" data-toc-modified-id=\"Hypothesis-determinations-4.1\"><span class=\"toc-item-num\">4.1&nbsp;&nbsp;</span>Hypothesis determinations</a></span></li><li><span><a href=\"#Testing-of-hypotheses\" data-toc-modified-id=\"Testing-of-hypotheses-4.2\"><span class=\"toc-item-num\">4.2&nbsp;&nbsp;</span>Testing of hypotheses</a></span></li><li><span><a href=\"#Conclusion\" data-toc-modified-id=\"Conclusion-4.3\"><span class=\"toc-item-num\">4.3&nbsp;&nbsp;</span>Conclusion</a></span></li></ul></li><li><span><a href=\"#Additions-to-the-project\" data-toc-modified-id=\"Additions-to-the-project-5\"><span class=\"toc-item-num\">5&nbsp;&nbsp;</span>Additions to the project</a></span></li><li><span><a href=\"#General-conclusion-and-recommendations\" data-toc-modified-id=\"General-conclusion-and-recommendations-6\"><span class=\"toc-item-num\">6&nbsp;&nbsp;</span>General conclusion and recommendations</a></span></li></ul></div>"
   ]
  },
  {
   "cell_type": "markdown",
   "metadata": {},
   "source": [
    "# Project implementation"
   ]
  },
  {
   "cell_type": "markdown",
   "metadata": {},
   "source": [
    "## Project settings"
   ]
  },
  {
   "cell_type": "markdown",
   "metadata": {},
   "source": [
    "### Importing libraries"
   ]
  },
  {
   "cell_type": "code",
   "execution_count": 1,
   "metadata": {},
   "outputs": [],
   "source": [
    "import pandas as pd\n",
    "import numpy as np\n",
    "\n",
    "# to show warnings only once:\n",
    "import warnings; warnings.filterwarnings(action='once')\n",
    "\n",
    "# to print all the outputs in the cell\n",
    "from IPython.core.interactiveshell import InteractiveShell\n",
    "InteractiveShell.ast_node_interactivity = \"all\""
   ]
  },
  {
   "cell_type": "markdown",
   "metadata": {},
   "source": [
    "### Functions - helpers :)"
   ]
  },
  {
   "cell_type": "markdown",
   "metadata": {},
   "source": [
    "I consider that several functions should be created to avoid code duplication."
   ]
  },
  {
   "cell_type": "markdown",
   "metadata": {},
   "source": [
    "#### eda_df()"
   ]
  },
  {
   "cell_type": "code",
   "execution_count": 2,
   "metadata": {},
   "outputs": [],
   "source": [
    "def eda_df(df):\n",
    "    \"\"\"\n",
    "    The function takes a data frame as input and calculates summary statistics\n",
    "    to reveal the understanding of the data in each column.\n",
    "    The function returns a data frame where each feature in the data set is a row and the summary statistics are columns. \n",
    "    \"\"\"    \n",
    "    pass"
   ]
  },
  {
   "cell_type": "markdown",
   "metadata": {},
   "source": [
    "#### overview_by_profiling()"
   ]
  },
  {
   "cell_type": "code",
   "execution_count": 3,
   "metadata": {},
   "outputs": [],
   "source": [
    "def overview_by_profiling(df):\n",
    "    \"\"\"\n",
    "    The function uses the pandas_profiling library to create a report and display it in a Jupyter notebook using widgets.\n",
    "    \"\"\"\n",
    "    pass"
   ]
  },
  {
   "cell_type": "markdown",
   "metadata": {},
   "source": [
    "#### distribution_columns()"
   ]
  },
  {
   "cell_type": "code",
   "execution_count": 4,
   "metadata": {},
   "outputs": [],
   "source": [
    "def distribution_columns(df, color):\n",
    "    \"\"\"\n",
    "    The function plots distributions for the dataframe columns\n",
    "    \"\"\"\n",
    "    pass"
   ]
  },
  {
   "cell_type": "markdown",
   "metadata": {},
   "source": [
    "#### dtype_converter()"
   ]
  },
  {
   "cell_type": "code",
   "execution_count": 5,
   "metadata": {},
   "outputs": [],
   "source": [
    "def dtype_converter(series, dtype):\n",
    "    \"\"\"\n",
    "    The function converts data type of series to another.\n",
    "    And returns series.    \n",
    "    \"\"\"\n",
    "    try:\n",
    "        pass\n",
    "    except ValueError:\n",
    "        pass"
   ]
  },
  {
   "cell_type": "markdown",
   "metadata": {},
   "source": [
    "#### def convert_seconds()"
   ]
  },
  {
   "cell_type": "code",
   "execution_count": 6,
   "metadata": {},
   "outputs": [],
   "source": [
    "def convert_seconds(seconds):\n",
    "    \"\"\"\n",
    "    The function takes an amount of seconds and converts them into a Timedelta type.\n",
    "    The function returns the value in the next format:\n",
    "    days h:min:sec            \n",
    "    \"\"\"\n",
    "    pass"
   ]
  },
  {
   "cell_type": "markdown",
   "metadata": {},
   "source": [
    "####  get_month()"
   ]
  },
  {
   "cell_type": "code",
   "execution_count": 7,
   "metadata": {},
   "outputs": [],
   "source": [
    "def get_month(date): \n",
    "    \"\"\"\n",
    "    The function truncates the given date in the column to the year and the first day of the month\n",
    "    \"\"\"    \n",
    "    pass"
   ]
  },
  {
   "cell_type": "markdown",
   "metadata": {},
   "source": [
    "####  get_day()"
   ]
  },
  {
   "cell_type": "code",
   "execution_count": 8,
   "metadata": {},
   "outputs": [],
   "source": [
    "def get_day(df, date_column): \n",
    "    \"\"\"\n",
    "    The function retrives day from the `date_column` and returns it in datetime64[ns] format.\n",
    "    \"\"\"    \n",
    "    pass"
   ]
  },
  {
   "cell_type": "markdown",
   "metadata": {},
   "source": [
    "####  get_date_int()"
   ]
  },
  {
   "cell_type": "code",
   "execution_count": 9,
   "metadata": {},
   "outputs": [],
   "source": [
    "def get_date_int(df, date_column):\n",
    "    \"\"\"\n",
    "    The function retrives year, month, week, day from the `date_column` and returns int num of them\n",
    "    \"\"\"\n",
    "    pass"
   ]
  },
  {
   "cell_type": "markdown",
   "metadata": {},
   "source": [
    "####  conversion_groups()"
   ]
  },
  {
   "cell_type": "code",
   "execution_count": 10,
   "metadata": {},
   "outputs": [],
   "source": [
    "def conversion_groups(val):\n",
    "    \"\"\"\n",
    "    The function categorizes the series\n",
    "    \"\"\"\n",
    "    pass"
   ]
  },
  {
   "cell_type": "markdown",
   "metadata": {},
   "source": [
    "#### check_hypothesis()"
   ]
  },
  {
   "cell_type": "code",
   "execution_count": 11,
   "metadata": {},
   "outputs": [],
   "source": [
    "def check_hypothesis(sample1, sample2, event, alpha):\n",
    "    \"\"\"\n",
    "    The function calculates the p-value, compares it to the significance level, \n",
    "    and outputs a conclusion whether H0 is rejected or not.\n",
    "    \"\"\"\n",
    "    pass"
   ]
  },
  {
   "cell_type": "markdown",
   "metadata": {},
   "source": [
    "###  Data sources"
   ]
  },
  {
   "cell_type": "markdown",
   "metadata": {},
   "source": [
    "The path to source directory"
   ]
  },
  {
   "cell_type": "markdown",
   "metadata": {},
   "source": [
    "##  Downloading and overview the data"
   ]
  },
  {
   "cell_type": "markdown",
   "metadata": {},
   "source": [
    "### The `telecom_operators` dataset"
   ]
  },
  {
   "cell_type": "markdown",
   "metadata": {},
   "source": [
    "Overview and descriptive statistic"
   ]
  },
  {
   "cell_type": "markdown",
   "metadata": {},
   "source": [
    "### The `telecom_clients` dataset"
   ]
  },
  {
   "cell_type": "markdown",
   "metadata": {},
   "source": [
    "Overview and descriptive statistic"
   ]
  },
  {
   "cell_type": "markdown",
   "metadata": {},
   "source": [
    "### Preliminary conclusion"
   ]
  },
  {
   "cell_type": "markdown",
   "metadata": {},
   "source": [
    ">*"
   ]
  },
  {
   "cell_type": "markdown",
   "metadata": {},
   "source": [
    "## Data Preprocessing"
   ]
  },
  {
   "cell_type": "markdown",
   "metadata": {},
   "source": [
    "### Studying missing values"
   ]
  },
  {
   "cell_type": "markdown",
   "metadata": {},
   "source": [
    "### Filling and/or dropping missing values"
   ]
  },
  {
   "cell_type": "markdown",
   "metadata": {},
   "source": [
    "### Converting the data types of some variables to the correct type."
   ]
  },
  {
   "cell_type": "markdown",
   "metadata": {},
   "source": [
    "### Studying and removing duplicates"
   ]
  },
  {
   "cell_type": "markdown",
   "metadata": {},
   "source": [
    "### Conclusion\n",
    "\n",
    ">*"
   ]
  },
  {
   "cell_type": "markdown",
   "metadata": {},
   "source": [
    "## Exploratory Data Analysis (EDA)"
   ]
  },
  {
   "cell_type": "markdown",
   "metadata": {},
   "source": [
    "### Plotting a histogram for call duration"
   ]
  },
  {
   "cell_type": "markdown",
   "metadata": {},
   "source": [
    "### Plotting a histogram for call count"
   ]
  },
  {
   "cell_type": "markdown",
   "metadata": {},
   "source": [
    "### Defining and removing outliers"
   ]
  },
  {
   "cell_type": "markdown",
   "metadata": {},
   "source": [
    "### Studying weird and inconsistent values"
   ]
  },
  {
   "cell_type": "markdown",
   "metadata": {},
   "source": [
    "### Creating additional calculated columns:\n",
    "\n",
    "* total waiting time\n",
    "* waiting time per call\n",
    "* categories of call waiting time, more or less than average waiting time\n",
    "* weekday, month of calls, etc"
   ]
  },
  {
   "cell_type": "markdown",
   "metadata": {},
   "source": [
    "### Studying correlations in the datasets"
   ]
  },
  {
   "cell_type": "markdown",
   "metadata": {},
   "source": [
    "### Conclusion\n",
    "\n",
    ">*"
   ]
  },
  {
   "cell_type": "markdown",
   "metadata": {},
   "source": [
    "## Reports"
   ]
  },
  {
   "cell_type": "markdown",
   "metadata": {},
   "source": [
    "### The shares of internal and external calls"
   ]
  },
  {
   "cell_type": "markdown",
   "metadata": {},
   "source": [
    "### The shares of call directions"
   ]
  },
  {
   "cell_type": "markdown",
   "metadata": {},
   "source": [
    "### The shares of client's tariff plan"
   ]
  },
  {
   "cell_type": "markdown",
   "metadata": {},
   "source": [
    "### The number of total calls per day and their daily total duration"
   ]
  },
  {
   "cell_type": "markdown",
   "metadata": {},
   "source": [
    "### Daily duration of calls and waiting time"
   ]
  },
  {
   "cell_type": "markdown",
   "metadata": {},
   "source": [
    "### Daily number of missing calls"
   ]
  },
  {
   "cell_type": "markdown",
   "metadata": {},
   "source": [
    "### Daily share of missing calls"
   ]
  },
  {
   "cell_type": "markdown",
   "metadata": {},
   "source": [
    "### The share of calls per weekday"
   ]
  },
  {
   "cell_type": "markdown",
   "metadata": {},
   "source": [
    "### The total number of customers using the service every day, week, etc."
   ]
  },
  {
   "cell_type": "markdown",
   "metadata": {},
   "source": [
    "### The average number of customers per operator they serve every day, week, etc."
   ]
  },
  {
   "cell_type": "markdown",
   "metadata": {},
   "source": [
    "### The average number of calls per day per operator."
   ]
  },
  {
   "cell_type": "markdown",
   "metadata": {},
   "source": [
    "### The average number of missing calls per day per operator."
   ]
  },
  {
   "cell_type": "markdown",
   "metadata": {},
   "source": [
    "# Metrics of Operator Performance"
   ]
  },
  {
   "cell_type": "markdown",
   "metadata": {},
   "source": [
    "> To evaluate operator productivity and distinguish an inefficient operator from a high performing operator, let's discuss several industry standards.\n",
    "<br>Telecommunications companies need to maintain some basic benchmarks that enable them to take their place in the business world.\n",
    "<br>Although the quantification of these indicators may differ significantly from one activity to another, the approaches to their measurement may not depend on the scope of activity of telecommunications customers.\n",
    "\n",
    "*Initially, for the purposes of the project, I suggest declaring constants and assigning values to them. Value can be changed at any time in accordance with business requirements.*"
   ]
  },
  {
   "cell_type": "markdown",
   "metadata": {},
   "source": [
    "## Constants of industry standards"
   ]
  },
  {
   "cell_type": "markdown",
   "metadata": {},
   "source": [
    "### Working hours\n",
    "\n",
    "According to the law, the standard duration of working day time in Israel is equal to 8 hours and 30 min."
   ]
  },
  {
   "cell_type": "code",
   "execution_count": 12,
   "metadata": {},
   "outputs": [
    {
     "data": {
      "text/plain": [
       "510.0"
      ]
     },
     "execution_count": 12,
     "metadata": {},
     "output_type": "execute_result"
    }
   ],
   "source": [
    "STAND_WORKING_DAY_HOURS = 8.5\n",
    "STAND_WORKING_DAY_MIN = STAND_WORKING_DAY_HOURS * 60\n",
    "STAND_WORKING_DAY_MIN"
   ]
  },
  {
   "cell_type": "markdown",
   "metadata": {},
   "source": [
    "### Effective working time\n",
    "\n",
    "Percentage of time that an operator is directly completing tasks: calling or talking, or wrapping up the call including typing, filling forms, etc.\n",
    "\n",
    "The industry standard is in the 80-90% range and depends on the employee environment and the level of service that the telecommunications company supports. \n",
    "\n",
    "I think that 80% is a good digit :)"
   ]
  },
  {
   "cell_type": "code",
   "execution_count": 13,
   "metadata": {},
   "outputs": [],
   "source": [
    "EFFECTIVE_WORKING_TIME = 0.8"
   ]
  },
  {
   "cell_type": "markdown",
   "metadata": {},
   "source": [
    "Hence, the rest time (ineffective for company) can be calculated. This time includes the break time."
   ]
  },
  {
   "cell_type": "code",
   "execution_count": 14,
   "metadata": {},
   "outputs": [
    {
     "data": {
      "text/plain": [
       "0.2"
      ]
     },
     "execution_count": 14,
     "metadata": {},
     "output_type": "execute_result"
    }
   ],
   "source": [
    "REST_WORKING_TIME = round((1 - EFFECTIVE_WORKING_TIME), 2)\n",
    "REST_WORKING_TIME"
   ]
  },
  {
   "cell_type": "markdown",
   "metadata": {},
   "source": [
    "### Standard call duration\n",
    "\n",
    "According to the report [1] (the source will be added :)), in general, the operator spends 4 minutes on a call and 6 minutes on completion of a call."
   ]
  },
  {
   "cell_type": "code",
   "execution_count": 15,
   "metadata": {},
   "outputs": [
    {
     "data": {
      "text/plain": [
       "10"
      ]
     },
     "execution_count": 15,
     "metadata": {},
     "output_type": "execute_result"
    }
   ],
   "source": [
    "MAX_CALL_DURATION_MIN = 4\n",
    "MAX_CALL_WRAP_UP_MIN = 6\n",
    "MAX_TOTAL_CALL_DURATION_MIN = MAX_CALL_DURATION_MIN + MAX_CALL_WRAP_UP_MIN\n",
    "\n",
    "MAX_TOTAL_CALL_DURATION_MIN"
   ]
  },
  {
   "cell_type": "markdown",
   "metadata": {},
   "source": [
    "### Number of calls\n",
    "\n",
    "There is a data that a single agent can handle 30 to 50 calls in an eight-hour shift depending on the demand [2] ()"
   ]
  },
  {
   "cell_type": "code",
   "execution_count": 16,
   "metadata": {},
   "outputs": [],
   "source": [
    "MIN_DAILY_CALLS = 30\n",
    "MAX_DAYLY_CALLS = 50"
   ]
  },
  {
   "cell_type": "markdown",
   "metadata": {},
   "source": [
    "### Waiting time\n",
    "\n",
    "Averages for the “time to answer” call center metric, defined as how long it takes agents to answer an inbound call, varies widely across industries. But Call Centre Helper Magazine recommends an SLA of answering 80% of calls in 20 seconds and reports that some contact centers are now targeting a standard of 90% of calls in 15 seconds. [3] ()\n",
    "\n",
    "It is also worth noting that some companies allow an increase in waiting time to 28 - 30 seconds, for example, during peak traffic, or if an operator is newbie. [4] ()\n",
    "\n",
    "Let's declare 2 constant variables and assign values to them:"
   ]
  },
  {
   "cell_type": "code",
   "execution_count": 17,
   "metadata": {},
   "outputs": [],
   "source": [
    "STAND_WAITING_TIME_SEC = 20\n",
    "MAX_WAITING_TIME_SEC = 30"
   ]
  },
  {
   "cell_type": "markdown",
   "metadata": {},
   "source": [
    "### Missed calls\n",
    "\n",
    "The biggest price that all businesses pay is for lost/missed calls. It is estimated that businesses in the United Kingdom lose over £30 billion every single year due to missed calls. \n",
    "\n",
    "Roughly 85% of people whose calls are not answered will not call back.\n",
    "\n",
    "Ideally, the number of missed calls should be 0. But this figure is still an unreachable goal for many companies, including ours.\n",
    "\n",
    "In this way, we create an acceptable rate of lost calls to monitor and reduce. For example, 10% of daily calls."
   ]
  },
  {
   "cell_type": "code",
   "execution_count": 18,
   "metadata": {},
   "outputs": [],
   "source": [
    "MAX_MISSED_CALLS_RATE = 10"
   ]
  },
  {
   "cell_type": "markdown",
   "metadata": {},
   "source": [
    "### Abandoned call threshold\n",
    "\n",
    "There are different approaches to determining an abandoned call.\n",
    "\n",
    "For example: 'once a customer has connected with at least one agent, the call can no longer be considered Abandoned'. [5] ()\n",
    "\n",
    "Or that: 'was hung up within the first 5 seconds after setting connection, or within the Welcome Greeting or ...' [6] ()\n",
    "\n",
    "It seems to me that for our purposes, it is better to define a hang-up threshold for abandoned calls of 5 seconds.\n",
    "And set up the rate of such calls as 8% in accordance with an industry standard. [7] ()"
   ]
  },
  {
   "cell_type": "code",
   "execution_count": 19,
   "metadata": {},
   "outputs": [],
   "source": [
    "ABANDONED_CALLS_THRESHOLD_SEC = 5\n",
    "ABANDONED_CALLS_RATE = 8"
   ]
  },
  {
   "cell_type": "markdown",
   "metadata": {},
   "source": [
    "## Metrics"
   ]
  },
  {
   "cell_type": "markdown",
   "metadata": {},
   "source": [
    "Now let's create several metrics to measure business benchmarks."
   ]
  },
  {
   "cell_type": "markdown",
   "metadata": {},
   "source": [
    "### Metric_1: Effective working hours"
   ]
  },
  {
   "cell_type": "markdown",
   "metadata": {},
   "source": [
    "The Occupancy Rate or Effective working hours is the percentage of time agents spend on call-related activities compared to idle time. \n",
    "\n",
    "Also, let's add the working time in minutes during which our operators must complete daily tasks."
   ]
  },
  {
   "cell_type": "code",
   "execution_count": 20,
   "metadata": {},
   "outputs": [
    {
     "data": {
      "text/html": [
       "<div>\n",
       "<style scoped>\n",
       "    .dataframe tbody tr th:only-of-type {\n",
       "        vertical-align: middle;\n",
       "    }\n",
       "\n",
       "    .dataframe tbody tr th {\n",
       "        vertical-align: top;\n",
       "    }\n",
       "\n",
       "    .dataframe thead th {\n",
       "        text-align: right;\n",
       "    }\n",
       "</style>\n",
       "<table border=\"1\" class=\"dataframe\">\n",
       "  <thead>\n",
       "    <tr style=\"text-align: right;\">\n",
       "      <th></th>\n",
       "      <th>criteria</th>\n",
       "      <th>PLANNED_DAY_TIME</th>\n",
       "      <th>PLANNED_DAY_TIME_MIN</th>\n",
       "    </tr>\n",
       "  </thead>\n",
       "  <tbody>\n",
       "    <tr>\n",
       "      <th>0</th>\n",
       "      <td>EFFECTIVE_WORKING_TIME</td>\n",
       "      <td>0.8</td>\n",
       "      <td>408.0</td>\n",
       "    </tr>\n",
       "    <tr>\n",
       "      <th>1</th>\n",
       "      <td>REST_WORKING_TIME</td>\n",
       "      <td>0.2</td>\n",
       "      <td>102.0</td>\n",
       "    </tr>\n",
       "  </tbody>\n",
       "</table>\n",
       "</div>"
      ],
      "text/plain": [
       "                 criteria  PLANNED_DAY_TIME  PLANNED_DAY_TIME_MIN\n",
       "0  EFFECTIVE_WORKING_TIME               0.8                 408.0\n",
       "1       REST_WORKING_TIME               0.2                 102.0"
      ]
     },
     "execution_count": 20,
     "metadata": {},
     "output_type": "execute_result"
    }
   ],
   "source": [
    "data = {\n",
    "    'criteria': ['EFFECTIVE_WORKING_TIME', 'REST_WORKING_TIME'],\n",
    "    'PLANNED_DAY_TIME': [EFFECTIVE_WORKING_TIME, REST_WORKING_TIME]\n",
    "}\n",
    "\n",
    "metric_1 = pd.DataFrame(data=data)\n",
    "\n",
    "metric_1['PLANNED_DAY_TIME_MIN'] = STAND_WORKING_DAY_MIN * metric_1.PLANNED_DAY_TIME\n",
    "metric_1"
   ]
  },
  {
   "cell_type": "markdown",
   "metadata": {},
   "source": [
    "Using this metric as a mask, we can measure how efficiently the operator allocates working time. \n",
    "\n",
    "In other words, if an operator's pace of work is less than 408 minutes during a workday, we may declare that operator ineffective."
   ]
  },
  {
   "cell_type": "markdown",
   "metadata": {},
   "source": [
    "### Metric_2: Call duration"
   ]
  },
  {
   "cell_type": "markdown",
   "metadata": {},
   "source": [
    "We have constants:\n",
    "`MAX_CALL_DURATION_MIN`, `MAX_CALL_WRAP_UP_MIN`, and `MAX_TOTAL_CALL_DURATION_MIN`.\n",
    "\n",
    "The `MAX_CALL_DURATION_MIN` that include time of call and time of call and time of wrapping up the call including typing, filling forms, etc.\n",
    "\n",
    "Thus, we can measure the performance of the operator's calls using these standards. For example, check whether 20% of calls are longer than the maximum allowed minutes.\n",
    "\n",
    "🧐 It seems to me that the 20% level should also be set as a constant, right? "
   ]
  },
  {
   "cell_type": "markdown",
   "metadata": {},
   "source": [
    "### Metric_3: Number daily calls\n",
    "\n",
    "Using our constant `MAX_TOTAL_CALL_DURATION_MIN`, we can calculate an additional variable, the number of daily scheduled calls that the agent must make during business hours."
   ]
  },
  {
   "cell_type": "code",
   "execution_count": 21,
   "metadata": {},
   "outputs": [
    {
     "data": {
      "text/plain": [
       "408.0"
      ]
     },
     "execution_count": 21,
     "metadata": {},
     "output_type": "execute_result"
    }
   ],
   "source": [
    "EFFECTIVE_WORKING_TIME_MIN = metric_1.iloc[0, 2] \n",
    "EFFECTIVE_WORKING_TIME_MIN"
   ]
  },
  {
   "cell_type": "code",
   "execution_count": 22,
   "metadata": {},
   "outputs": [
    {
     "data": {
      "text/plain": [
       "40.8"
      ]
     },
     "execution_count": 22,
     "metadata": {},
     "output_type": "execute_result"
    }
   ],
   "source": [
    "PLANNED_DAILY_CALLS = EFFECTIVE_WORKING_TIME_MIN / MAX_TOTAL_CALL_DURATION_MIN\n",
    "PLANNED_DAILY_CALLS"
   ]
  },
  {
   "cell_type": "markdown",
   "metadata": {},
   "source": [
    "So, our operators have to make... 41 calls per working day. Can they make fewer calls?\n",
    "\n",
    "The answer is 'Yes'.\n",
    "\n",
    "We set above the min and max calls per day, 30 and 50 relatively. \n",
    "\n",
    "It means that 30 calls per day is a <font color=\"red\">Red Line</font> below which the operator's work will be considered as ineffective.\n",
    "\n",
    "At the same time, the reason for the award may be reaching the level of 50 calls per day. However, this is beyond the scope of our task )"
   ]
  },
  {
   "cell_type": "markdown",
   "metadata": {},
   "source": [
    "### Metric_4: Waiting time"
   ]
  },
  {
   "cell_type": "markdown",
   "metadata": {},
   "source": [
    "We can calculate the share of all daily operator calls with a waiting time of 20 seconds or less.\n",
    "\n",
    "If this percentage is equal to or greater than, for example, 80%, the operator has good efficiency.\n",
    "\n",
    "And in other cases, operator work is ineffective. \n",
    "\n",
    "For clarity, let's create a small table with acceptable latency conditions."
   ]
  },
  {
   "cell_type": "code",
   "execution_count": 23,
   "metadata": {},
   "outputs": [
    {
     "data": {
      "text/html": [
       "<div>\n",
       "<style scoped>\n",
       "    .dataframe tbody tr th:only-of-type {\n",
       "        vertical-align: middle;\n",
       "    }\n",
       "\n",
       "    .dataframe tbody tr th {\n",
       "        vertical-align: top;\n",
       "    }\n",
       "\n",
       "    .dataframe thead th {\n",
       "        text-align: right;\n",
       "    }\n",
       "</style>\n",
       "<table border=\"1\" class=\"dataframe\">\n",
       "  <thead>\n",
       "    <tr style=\"text-align: right;\">\n",
       "      <th></th>\n",
       "      <th>waiting_time</th>\n",
       "      <th>calls_rate</th>\n",
       "    </tr>\n",
       "  </thead>\n",
       "  <tbody>\n",
       "    <tr>\n",
       "      <th>0</th>\n",
       "      <td>&lt;= 20 sec</td>\n",
       "      <td>80</td>\n",
       "    </tr>\n",
       "    <tr>\n",
       "      <th>1</th>\n",
       "      <td>&gt; 20 sec</td>\n",
       "      <td>20</td>\n",
       "    </tr>\n",
       "  </tbody>\n",
       "</table>\n",
       "</div>"
      ],
      "text/plain": [
       "  waiting_time calls_rate\n",
       "0    <= 20 sec         80\n",
       "1     > 20 sec         20"
      ]
     },
     "execution_count": 23,
     "metadata": {},
     "output_type": "execute_result"
    }
   ],
   "source": [
    "tmp = pd.DataFrame(np.array([['<= 20 sec', 80], ['> 20 sec', 20] ]),\n",
    "                   columns=['waiting_time', 'calls_rate'])\n",
    "tmp"
   ]
  },
  {
   "cell_type": "markdown",
   "metadata": {},
   "source": [
    "### Metric_5: Missed calls\n",
    "\n",
    "With this metric, we can measure the percentage of calls lost by an operator. \n",
    "If an operator has a higher percentage of missed calls, we will assume that this operator is ineffective."
   ]
  },
  {
   "cell_type": "markdown",
   "metadata": {},
   "source": [
    "### Metric_6: Abandoned calls\n",
    "\n",
    "For using this metrics, we need to extract calls with duration less or equal to 5 seconds. After that we'll be able to calculate the rate of abandoned calls. \n",
    "\n",
    "If the operator has this indicator higher than the allowable one, this operator will be considered ineffective."
   ]
  },
  {
   "cell_type": "markdown",
   "metadata": {},
   "source": [
    "### Metric_7: Number of outgoing calls\n",
    "\n",
    "According to our task, \"if an operator is supposed to make outgoing calls, a small number of them is also a sign of ineffectiveness\".\n",
    "\n",
    "First, we need to define an acceptable minimum call threshold. Let's take the average number of outgoing calls per operator per day.\n",
    "\n",
    "Second, we will consider operators who have less than average outgoing calls to be ineffective."
   ]
  },
  {
   "cell_type": "markdown",
   "metadata": {},
   "source": [
    "### Conclusion\n",
    "\n",
    "> Results for all metrics can be assessed as follows:\n",
    "<br>Effective operators get 1 per metric,\n",
    "<br>Inefficient operators get 0.\n",
    "<br>The sum of all indicators is 100%.\n",
    "<br>Thus, we will be able to evaluate operators separately for each metric and track their overall score."
   ]
  },
  {
   "cell_type": "markdown",
   "metadata": {},
   "source": [
    "# Hypotheses"
   ]
  },
  {
   "cell_type": "markdown",
   "metadata": {},
   "source": [
    "## Hypothesis determinations\n",
    "\n",
    "For example, the operators with values equal to or greater than the daily average rates are effective."
   ]
  },
  {
   "cell_type": "markdown",
   "metadata": {},
   "source": [
    "## Testing of hypotheses"
   ]
  },
  {
   "cell_type": "markdown",
   "metadata": {},
   "source": [
    "## Conclusion\n",
    "\n",
    ">*"
   ]
  },
  {
   "cell_type": "markdown",
   "metadata": {},
   "source": [
    "# Additions to the project\n",
    "\n",
    "* Link to the PDF file of the presentation.\n",
    "        [Here will be link]()\n",
    "\n",
    "* Links to sources used (documentation, articles, etc.):\n",
    "\n",
    "[1]\n",
    "\n",
    "[2]\n",
    "\n",
    "[3]\n",
    "\n",
    "[4]\n",
    "\n",
    "[5]"
   ]
  },
  {
   "cell_type": "markdown",
   "metadata": {},
   "source": [
    "# General conclusion and recommendations\n",
    "\n",
    "> *"
   ]
  }
 ],
 "metadata": {
  "kernelspec": {
   "display_name": "Python 3",
   "language": "python",
   "name": "python3"
  },
  "language_info": {
   "codemirror_mode": {
    "name": "ipython",
    "version": 3
   },
   "file_extension": ".py",
   "mimetype": "text/x-python",
   "name": "python",
   "nbconvert_exporter": "python",
   "pygments_lexer": "ipython3",
   "version": "3.7.7"
  },
  "toc": {
   "base_numbering": 1,
   "nav_menu": {},
   "number_sections": true,
   "sideBar": true,
   "skip_h1_title": false,
   "title_cell": "Table of Contents",
   "title_sidebar": "Contents",
   "toc_cell": true,
   "toc_position": {
    "height": "calc(100% - 180px)",
    "left": "10px",
    "top": "150px",
    "width": "365.2px"
   },
   "toc_section_display": true,
   "toc_window_display": true
  }
 },
 "nbformat": 4,
 "nbformat_minor": 4
}
